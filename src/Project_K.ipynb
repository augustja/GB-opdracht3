{
 "cells": [
  {
   "cell_type": "code",
   "execution_count": null,
   "metadata": {},
   "outputs": [],
   "source": [
    "# Benodigde packages\n",
    "\n",
    "import json            # Package om .json files in te laden (bvb kolomnamen zijn zo opgeslagen)\n",
    "import getpass         # Package om een paswoordveldje te genereren.\n",
    "import mysql.connector # MySQL package\n",
    "import numpy as np\n",
    "import os\n",
    "import pandas as pd    # Populaire package voor data-verwerking\n",
    "import sys\n",
    "from basics import*\n",
    "\n",
    "sys.version_info       # Check python versie, wij veronderstellen 3.6"
   ]
  },
  {
   "cell_type": "code",
   "execution_count": null,
   "metadata": {},
   "outputs": [],
   "source": [
    "def verbind_met_GB(username, hostname, gegevensbanknaam):\n",
    "    \"\"\"\n",
    "    Maak verbinding met een externe gegevensbank\n",
    "    \n",
    "    :param  username:          username van de gebruiker, string\n",
    "    :param  hostname:          naam van de host, string.\n",
    "                               Dit is in het geval van een lokale server gewoon 'localhost'\n",
    "    :param  gegevensbanknaam:  naam van de gegevensbank, string.\n",
    "    :return connection:        connection object, dit is wat teruggeven wordt \n",
    "                               door connect() methods van packages die voldoen aan de DB-API\n",
    "    \"\"\"\n",
    "    \n",
    "    password = getpass.getpass() # Genereer vakje voor wachtwoord in te geven\n",
    "    \n",
    "    connection = mysql.connector.connect(host=hostname,\n",
    "                                         user=username,\n",
    "                                         passwd=password,\n",
    "                                         db=gegevensbanknaam)\n",
    "    return connection\n",
    "\n",
    "\n",
    "def run_query(connection, query):\n",
    "    \"\"\"\n",
    "    Voer een query uit op een reeds gemaakte connectie, geeft het resultaat van de query terug\n",
    "    \"\"\"\n",
    "    \n",
    "    # Making a cursor and executing the query\n",
    "    cursor = connection.cursor()\n",
    "    cursor.execute(query)\n",
    "    \n",
    "    # Collecting the result and casting it in a pd.DataFrame\n",
    "    res = cursor.fetchall()\n",
    "    \n",
    "    return res\n",
    "\n",
    "\n",
    "def res_to_df(query_result, column_names):\n",
    "    \"\"\"\n",
    "    Giet het resultaat van een uitgevoerde query in een 'pandas dataframe'\n",
    "    met vooraf gespecifieerde kolomnamen.\n",
    "    \n",
    "    Let op: Het resultaat van de query moet dus exact evenveel kolommen bevatten\n",
    "    als kolomnamen die je meegeeft. Als dit niet het geval is, is dit een indicatie\n",
    "    dat je oplossing fout is. (Gezien wij de kolomnamen van de oplossing al cadeau doen)\n",
    "    \n",
    "    \"\"\"\n",
    "    df = pd.DataFrame(query_result, columns=column_names)\n",
    "    return df"
   ]
  },
  {
   "cell_type": "code",
   "execution_count": null,
   "metadata": {},
   "outputs": [],
   "source": [
    "# Dictionary van kolomnamen inladen\n",
    "\n",
    "filename = os.path.join(os.getcwd(), 'solution', 'all_q_colnam.json')\n",
    "col_names = json.load(open(filename, 'r'))    \n",
    "\n",
    "col_names # Inspecteer dictionary"
   ]
  },
  {
   "cell_type": "code",
   "execution_count": null,
   "metadata": {},
   "outputs": [],
   "source": [
    "def query_01(connection, column_names):\n",
    "    # Bouw je query\n",
    "    query=\"\"\"\n",
    "    SELECT   t.name, t.yearID, t.HR\n",
    "    FROM     Teams as t\n",
    "    ORDER BY t.HR DESC;\n",
    "    \"\"\"\n",
    "    \n",
    "    # Stap 2 & 3\n",
    "    res = run_query(connection, query)         # Query uitvoeren\n",
    "    df = res_to_df(res, column_names)          # Query in DataFrame brengen\n",
    "    \n",
    "    return df"
   ]
  },
  {
   "cell_type": "code",
   "execution_count": null,
   "metadata": {},
   "outputs": [],
   "source": [
    "username = 'root'      # Vervang dit als je via een andere user queries stuurt\n",
    "hostname = 'localhost' # Als je een databank lokaal draait, is dit localhost.\n",
    "db = 'lahman2016'      # Naam van de gegevensbank op je XAMPP Mysql server\n",
    "\n",
    "# We verbinden met de gegevensbank\n",
    "c = verbind_met_GB(username, hostname, db)"
   ]
  },
  {
   "cell_type": "code",
   "execution_count": null,
   "metadata": {},
   "outputs": [],
   "source": [
    "# De voorbeeldquery heeft dezelfde kolomnamen als query 1, dus we gebruiken die\n",
    "kolommen = col_names['query_01'] \n",
    "\n",
    "# Functie uitvoeren, geeft resultaat van de query in een DataFrame\n",
    "df = query_01(c, col_names['query_01'])\n",
    "\n",
    "# We inspecteren de eerste paar resultaten (voor alles te zien: laat .head() weg)\n",
    "df.head() "
   ]
  },
  {
   "cell_type": "code",
   "execution_count": null,
   "metadata": {},
   "outputs": [],
   "source": [
    "def query_02(connection, column_names, datum = '1980-01-16'):\n",
    "    # Bouw je query\n",
    "    query=\"\"\"\n",
    "    SELECT   Master.nameFirst, Master.nameLast, \n",
    "             Master.birthYear, Master.birthMonth, Master.birthDay\n",
    "    FROM     Master\n",
    "    WHERE    Master.debut> {}\n",
    "    ORDER BY Master.nameLast;\n",
    "    \"\"\".format(datum)\n",
    "    \n",
    "    # Stap 2 & 3\n",
    "    res = run_query(connection, query)         # Query uitvoeren\n",
    "    df = res_to_df(res, column_names)          # Query in DataFrame brengen\n",
    "    \n",
    "    return df"
   ]
  },
  {
   "cell_type": "code",
   "execution_count": null,
   "metadata": {},
   "outputs": [],
   "source": [
    "username = 'root'      # Vervang dit als je via een andere user queries stuurt\n",
    "hostname = 'localhost' # Als je een databank lokaal draait, is dit localhost.\n",
    "db = 'lahman2016'      # Naam van de gegevensbank op je XAMPP Mysql server\n",
    "\n",
    "# We verbinden met de gegevensbank\n",
    "c = verbind_met_GB(username, hostname, db)"
   ]
  },
  {
   "cell_type": "code",
   "execution_count": null,
   "metadata": {},
   "outputs": [],
   "source": [
    "# De voorbeeldquery heeft dezelfde kolomnamen als query 1, dus we gebruiken die\n",
    "kolommen = col_names['query_02'] \n",
    "\n",
    "# Functie uitvoeren, geeft resultaat van de query in een DataFrame\n",
    "df = query_02(c, col_names['query_02'], datum = '1980-01-16')\n",
    "\n",
    "# We inspecteren de eerste paar resultaten (voor alles te zien: laat .head() weg)\n",
    "df.head() "
   ]
  },
  {
   "cell_type": "code",
   "execution_count": null,
   "metadata": {},
   "outputs": [],
   "source": [
    "def query_03(connection, column_names):\n",
    "    # Bouw je query\n",
    "    query=\"\"\"\n",
    "    SELECT DISTINCT MS.nameFirst, MS.nameLast, t.name\n",
    "    FROM     Teams as t, Managers as MG, Master as MS\n",
    "    WHERE    MG.teamID = t.teamID AND MG.yearID = t.yearID\n",
    "             AND MG.plyrMgr = 'N'\n",
    "             AND MS.playerID = MG.playerID\n",
    "    \n",
    "    ORDER BY t.name;\n",
    "    \"\"\"\n",
    "    # Stap 2 & 3\n",
    "    res = run_query(connection, query)         # Query uitvoeren\n",
    "    df = res_to_df(res, column_names)          # Query in DataFrame brengen\n",
    "    \n",
    "    return df"
   ]
  },
  {
   "cell_type": "code",
   "execution_count": null,
   "metadata": {},
   "outputs": [],
   "source": [
    "username = 'root'      # Vervang dit als je via een andere user queries stuurt\n",
    "hostname = 'localhost' # Als je een databank lokaal draait, is dit localhost.\n",
    "db = 'lahman2016'      # Naam van de gegevensbank op je XAMPP Mysql server\n",
    "\n",
    "# We verbinden met de gegevensbank\n",
    "c = verbind_met_GB(username, hostname, db)"
   ]
  },
  {
   "cell_type": "code",
   "execution_count": null,
   "metadata": {},
   "outputs": [],
   "source": [
    "# De voorbeeldquery heeft dezelfde kolomnamen als query 1, dus we gebruiken die\n",
    "kolommen = col_names['query_03'] \n",
    "\n",
    "# Functie uitvoeren, geeft resultaat van de query in een DataFrame\n",
    "df = query_03(c, col_names['query_03'])\n",
    "\n",
    "# We inspecteren de eerste paar resultaten (voor alles te zien: laat .head() weg)\n",
    "df.head()"
   ]
  },
  {
   "cell_type": "code",
   "execution_count": null,
   "metadata": {},
   "outputs": [],
   "source": [
    "def query_04(connection, column_names, datum_x='1980-01-01', datum_y='1980-01-01'):\n",
    "    # Bouw je query\n",
    "    query=\"\"\"\n",
    "    SELECT DISTINCT t.name, t.Rank, t.W, t.L, MS.nameFirst, MS.nameLast\n",
    "    FROM   Teams as t, Managers as MG, Master as MS, Halloffame as HF\n",
    "    WHERE  MS.playerID = MG.playerID AND HF.playerID = MG.playerID\n",
    "           AND MG.teamID = t.teamID AND MG.yearID  = t.yearID\n",
    "           AND HF.yearid > {}\n",
    "           AND MG.yearID > {}\n",
    "    ORDER by t.name, t.Rank;\n",
    "    \"\"\".format(datum_x, datum_y)\n",
    "\n",
    "    \n",
    "    # Stap 2 & 3\n",
    "    res = run_query(connection, query)         # Query uitvoeren\n",
    "    df = res_to_df(res, column_names)          # Query in DataFrame brengen\n",
    "    \n",
    "    return df"
   ]
  },
  {
   "cell_type": "code",
   "execution_count": null,
   "metadata": {},
   "outputs": [],
   "source": [
    "username = 'root'      # Vervang dit als je via een andere user queries stuurt\n",
    "hostname = 'localhost' # Als je een databank lokaal draait, is dit localhost.\n",
    "db = 'lahman2016'      # Naam van de gegevensbank op je XAMPP Mysql server\n",
    "\n",
    "# We verbinden met de gegevensbank\n",
    "c = verbind_met_GB(username, hostname, db)"
   ]
  },
  {
   "cell_type": "code",
   "execution_count": null,
   "metadata": {},
   "outputs": [],
   "source": [
    "# De voorbeeldquery heeft dezelfde kolomnamen als query 1, dus we gebruiken die\n",
    "kolommen = col_names['query_04'] \n",
    "\n",
    "# Functie uitvoeren, geeft resultaat van de query in een DataFrame\n",
    "df = query_04(c, col_names['query_04'], datum_x='1980-01-01', datum_y='1980-01-01')\n",
    "\n",
    "# We inspecteren de eerste paar resultaten (voor alles te zien: laat .head() weg)\n",
    "df\n"
   ]
  },
  {
   "cell_type": "code",
   "execution_count": null,
   "metadata": {},
   "outputs": [],
   "source": [
    "def query_05(connection, column_names):\n",
    "    # Bouw je query\n",
    "    query=\"\"\"\n",
    "    SELECT DISTINCT t.name\n",
    "    FROM   Teams as t\n",
    "    WHERE  (SELECT  COUNT(*)\n",
    "            FROM    Teams as t, Managers as MG\n",
    "            WHERE   t.yearID>'1980-01-01'\n",
    "                    AND MG.teamID = T.teamID AND MG.plyrMgr = 'Y')>=1;\n",
    "    \"\"\"\n",
    "    \n",
    "    # Stap 2 & 3\n",
    "    res = run_query(connection, query)         # Query uitvoeren\n",
    "    df = res_to_df(res, column_names)          # Query in DataFrame brengen\n",
    "    \n",
    "    return df"
   ]
  },
  {
   "cell_type": "code",
   "execution_count": null,
   "metadata": {},
   "outputs": [],
   "source": [
    "username = 'root'      # Vervang dit als je via een andere user queries stuurt\n",
    "hostname = 'localhost' # Als je een databank lokaal draait, is dit localhost.\n",
    "db = 'lahman2016'      # Naam van de gegevensbank op je XAMPP Mysql server\n",
    "\n",
    "# We verbinden met de gegevensbank\n",
    "c = verbind_met_GB(username, hostname, db)"
   ]
  },
  {
   "cell_type": "code",
   "execution_count": null,
   "metadata": {},
   "outputs": [],
   "source": [
    "# De voorbeeldquery heeft dezelfde kolomnamen als query 1, dus we gebruiken die\n",
    "kolommen = col_names['query_05'] \n",
    "\n",
    "# Functie uitvoeren, geeft resultaat van de query in een DataFrame\n",
    "df = query_05(c, col_names['query_05'])\n",
    "\n",
    "# We inspecteren de eerste paar resultaten (voor alles te zien: laat .head() weg)\n",
    "df"
   ]
  },
  {
   "cell_type": "code",
   "execution_count": null,
   "metadata": {},
   "outputs": [],
   "source": [
    "def query_06(connection, column_names, salaris=20000):\n",
    "    # Bouw je query\n",
    "    query=\"\"\"\n",
    "    SELECT    t.name, t.yearID, t.Rank, t.W, t.L\n",
    "    FROM      Teams as t, Salaries as S\n",
    "    WHERE     t.teamID = S.teamID\n",
    "    GROUP BY  S.teamID\n",
    "    \n",
    "    HAVING    MIN(salary)> {}\n",
    "    \n",
    "    ORDER BY  t.W\n",
    "    \"\"\".format(salaris)\n",
    "    # Stap 2 & 3\n",
    "    res = run_query(connection, query)         # Query uitvoeren\n",
    "    df = res_to_df(res, column_names)          # Query in DataFrame brengen\n",
    "    \n",
    "    return df"
   ]
  },
  {
   "cell_type": "code",
   "execution_count": null,
   "metadata": {},
   "outputs": [],
   "source": [
    "username = 'root'      # Vervang dit als je via een andere user queries stuurt\n",
    "hostname = 'localhost' # Als je een databank lokaal draait, is dit localhost.\n",
    "db = 'lahman2016'      # Naam van de gegevensbank op je XAMPP Mysql server\n",
    "\n",
    "# We verbinden met de gegevensbank\n",
    "c = verbind_met_GB(username, hostname, db)"
   ]
  },
  {
   "cell_type": "code",
   "execution_count": null,
   "metadata": {},
   "outputs": [],
   "source": [
    "# De voorbeeldquery heeft dezelfde kolomnamen als query 1, dus we gebruiken die\n",
    "kolommen = col_names['query_06'] \n",
    "\n",
    "# Functie uitvoeren, geeft resultaat van de query in een DataFrame\n",
    "df = query_06(c, col_names['query_06'], salaris=20000)\n",
    "\n",
    "# We inspecteren de eerste paar resultaten (voor alles te zien: laat .head() weg)\n",
    "df"
   ]
  },
  {
   "cell_type": "code",
   "execution_count": null,
   "metadata": {},
   "outputs": [],
   "source": [
    "def query_07(connection, column_names):\n",
    "    # Bouw je query\n",
    "    query=\"\"\"\n",
    "    SELECT DISTINCT MS.nameLast, MS.nameFirst\n",
    "    FROM  Managers as MG, Master as MS, Awardsmanagers as AM\n",
    "    \n",
    "    WHERE MG.playerID = MS.playerID AND MS.playerID = AM.playerID\n",
    "    GROUP BY AM.playerID\n",
    "    HAVING COUNT(DISTINCT AM.awardID)=2\n",
    "\n",
    "    ORDER by MS.nameLast;\n",
    "    \"\"\"\n",
    "    #    AND   AM.awardID LIKE '%SN%'  \n",
    "    # AND   AM.awardID LIKE '%BW%' \n",
    "\n",
    "    # Stap 2 & 3\n",
    "    res = run_query(connection, query)         # Query uitvoeren\n",
    "    df = res_to_df(res, column_names)          # Query in DataFrame brengen\n",
    "    \n",
    "    return df"
   ]
  },
  {
   "cell_type": "code",
   "execution_count": null,
   "metadata": {},
   "outputs": [],
   "source": [
    "username = 'root'      # Vervang dit als je via een andere user queries stuurt\n",
    "hostname = 'localhost' # Als je een databank lokaal draait, is dit localhost.\n",
    "db = 'lahman2016'      # Naam van de gegevensbank op je XAMPP Mysql server\n",
    "\n",
    "# We verbinden met de gegevensbank\n",
    "c = verbind_met_GB(username, hostname, db)"
   ]
  },
  {
   "cell_type": "code",
   "execution_count": null,
   "metadata": {
    "scrolled": false
   },
   "outputs": [],
   "source": [
    "# De voorbeeldquery heeft dezelfde kolomnamen als query 1, dus we gebruiken die\n",
    "kolommen = col_names['query_07'] \n",
    "\n",
    "# Functie uitvoeren, geeft resultaat van de query in een DataFrame\n",
    "df = query_07(c, col_names['query_07'])\n",
    "\n",
    "# We inspecteren de eerste paar resultaten (voor alles te zien: laat .head() weg)\n",
    "df\n"
   ]
  },
  {
   "cell_type": "code",
   "execution_count": null,
   "metadata": {},
   "outputs": [],
   "source": [
    "def query_08(connection, column_names, jaar=1990, lengte=75):\n",
    "    # Bouw je query\n",
    "    query=\"\"\"\n",
    "    \n",
    "    \n",
    "    SELECT   MS.birthState, AVG(MS.weight), AVG(MS.height),\n",
    "             AVG(B.HR), AVG(P.SV)\n",
    "    FROM     Master as MS, Batting as B, Pitching as P,\n",
    "             Halloffame as HF\n",
    "                \n",
    "    WHERE    HF.yearID >= {} AND\n",
    "             MS.playerID = HF.playerID AND\n",
    "             MS.playerID = B.playerID AND\n",
    "             MS.playerID = P.playerID\n",
    "             \n",
    "    GROUP BY MS.BirthState\n",
    "    HAVING AVG(MS.Height)> {}\n",
    "    \n",
    "   \n",
    "    \n",
    "        \n",
    "    ORDER BY MS.BirthState;\n",
    "    \"\"\".format(jaar,lengte)\n",
    "                 \n",
    "    # Stap 2 & 3\n",
    "    res = run_query(connection, query)         # Query uitvoeren\n",
    "    df = res_to_df(res, column_names)          # Query in DataFrame brengen\n",
    "    \n",
    "    return df"
   ]
  },
  {
   "cell_type": "code",
   "execution_count": null,
   "metadata": {},
   "outputs": [],
   "source": [
    "username = 'root'      # Vervang dit als je via een andere user queries stuurt\n",
    "hostname = 'localhost' # Als je een databank lokaal draait, is dit localhost.\n",
    "db = 'lahman2016'      # Naam van de gegevensbank op je XAMPP Mysql server\n",
    "\n",
    "# We verbinden met de gegevensbank\n",
    "c = verbind_met_GB(username, hostname, db)"
   ]
  },
  {
   "cell_type": "code",
   "execution_count": null,
   "metadata": {},
   "outputs": [],
   "source": [
    "# De voorbeeldquery heeft dezelfde kolomnamen als query 1, dus we gebruiken die\n",
    "kolommen = col_names['query_08'] \n",
    "\n",
    "# Functie uitvoeren, geeft resultaat van de query in een DataFrame\n",
    "df = query_08(c, col_names['query_08'], jaar=1990, lengte=75)\n",
    "\n",
    "# We inspecteren de eerste paar resultaten (voor alles te zien: laat .head() weg)\n",
    "df"
   ]
  },
  {
   "cell_type": "code",
   "execution_count": null,
   "metadata": {},
   "outputs": [],
   "source": [
    "def query_09(connection, column_names, jaar=1975):\n",
    "    # Bouw je query\n",
    "    query=\"\"\"\n",
    "    SELECT   t.yearID, t.name, t.HR\n",
    "    FROM     Teams as t\n",
    "    WHERE    t.yearID = {}\n",
    "    ORDER BY t.HR DESC\n",
    "    LIMIT    1,1; \n",
    "    \n",
    "    \n",
    "     \"\"\".format(jaar)\n",
    "    # Stap 2 & 3\n",
    "    res = run_query(connection, query)         # Query uitvoeren\n",
    "    df = res_to_df(res, column_names)          # Query in DataFrame brengen\n",
    "    \n",
    "    return df"
   ]
  },
  {
   "cell_type": "code",
   "execution_count": null,
   "metadata": {},
   "outputs": [],
   "source": [
    "username = 'root'      # Vervang dit als je via een andere user queries stuurt\n",
    "hostname = 'localhost' # Als je een databank lokaal draait, is dit localhost.\n",
    "db = 'lahman2016'      # Naam van de gegevensbank op je XAMPP Mysql server\n",
    "\n",
    "# We verbinden met de gegevensbank\n",
    "c = verbind_met_GB(username, hostname, db)"
   ]
  },
  {
   "cell_type": "code",
   "execution_count": null,
   "metadata": {},
   "outputs": [],
   "source": [
    "# De voorbeeldquery heeft dezelfde kolomnamen als query 1, dus we gebruiken die\n",
    "kolommen = col_names['query_09'] \n",
    "\n",
    "# Functie uitvoeren, geeft resultaat van de query in een DataFrame\n",
    "df = query_09(c, col_names['query_09'])\n",
    "\n",
    "# We inspecteren de eerste paar resultaten (voor alles te zien: laat .head() weg)\n",
    "df"
   ]
  },
  {
   "cell_type": "code",
   "execution_count": null,
   "metadata": {},
   "outputs": [],
   "source": [
    "def query_10(connection, column_names, jaar=1990):\n",
    "    # Bouw je query\n",
    "    \n",
    "    query=\"\"\"\n",
    "    SELECT t.yearID, t.name, t.Rank, t.G\n",
    "    FROM Teams as t\n",
    "    WHERE t.yearID = {} and exists( SELECT ap.playerID\n",
    "                                    FROM   Appearances as ap, AwardsPlayers as a\n",
    "                                    WHERE  t.teamID = ap.teamID AND {} = ap.yearID \n",
    "                                           AND ap.playerID = a.playerID\n",
    "    GROUP BY a.playerID\n",
    "    HAVING count(a.awardID)= 1)\n",
    "    \"\"\".format(jaar, jaar)\n",
    "    \n",
    "    \n",
    "    res = run_query(connection, query)         # Query uitvoeren\n",
    "    df = res_to_df(res, column_names)          # Query in DataFrame brengen\n",
    "    \n",
    "    return df"
   ]
  },
  {
   "cell_type": "code",
   "execution_count": null,
   "metadata": {},
   "outputs": [],
   "source": [
    "username = 'root'      # Vervang dit als je via een andere user queries stuurt\n",
    "hostname = 'localhost' # Als je een databank lokaal draait, is dit localhost.\n",
    "db = 'lahman2016'      # Naam van de gegevensbank op je XAMPP Mysql server\n",
    "\n",
    "# We verbinden met de gegevensbank\n",
    "c = verbind_met_GB(username, hostname, db)"
   ]
  },
  {
   "cell_type": "code",
   "execution_count": null,
   "metadata": {},
   "outputs": [],
   "source": [
    "# De voorbeeldquery heeft dezelfde kolomnamen als query 1, dus we gebruiken die\n",
    "kolommen = col_names['query_10'] \n",
    "\n",
    "# Functie uitvoeren, geeft resultaat van de query in een DataFrame\n",
    "df = query_10(c, col_names['query_10'], jaar=1990)\n",
    "\n",
    "# We inspecteren de eerste paar resultaten (voor alles te zien: laat .head() weg)\n",
    "df.head() "
   ]
  },
  {
   "cell_type": "code",
   "execution_count": null,
   "metadata": {},
   "outputs": [],
   "source": []
  }
 ],
 "metadata": {
  "kernelspec": {
   "display_name": "Python 3",
   "language": "python",
   "name": "python3"
  },
  "language_info": {
   "codemirror_mode": {
    "name": "ipython",
    "version": 3
   },
   "file_extension": ".py",
   "mimetype": "text/x-python",
   "name": "python",
   "nbconvert_exporter": "python",
   "pygments_lexer": "ipython3",
   "version": "3.6.4"
  }
 },
 "nbformat": 4,
 "nbformat_minor": 2
}
