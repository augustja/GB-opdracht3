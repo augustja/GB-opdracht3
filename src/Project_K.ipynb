{
 "cells": [
  {
   "cell_type": "code",
   "execution_count": 1,
   "metadata": {},
   "outputs": [
    {
     "data": {
      "text/plain": [
       "sys.version_info(major=3, minor=6, micro=4, releaselevel='final', serial=0)"
      ]
     },
     "execution_count": 1,
     "metadata": {},
     "output_type": "execute_result"
    }
   ],
   "source": [
    "# Benodigde packages\n",
    "\n",
    "import json            # Package om .json files in te laden (bvb kolomnamen zijn zo opgeslagen)\n",
    "import getpass         # Package om een paswoordveldje te genereren.\n",
    "import mysql.connector # MySQL package\n",
    "import numpy as np\n",
    "import os\n",
    "import pandas as pd    # Populaire package voor data-verwerking\n",
    "import sys\n",
    "from basics import*\n",
    "\n",
    "sys.version_info       # Check python versie, wij veronderstellen 3.6"
   ]
  },
  {
   "cell_type": "code",
   "execution_count": 2,
   "metadata": {},
   "outputs": [],
   "source": [
    "def verbind_met_GB(username, hostname, gegevensbanknaam):\n",
    "    \"\"\"\n",
    "    Maak verbinding met een externe gegevensbank\n",
    "    \n",
    "    :param  username:          username van de gebruiker, string\n",
    "    :param  hostname:          naam van de host, string.\n",
    "                               Dit is in het geval van een lokale server gewoon 'localhost'\n",
    "    :param  gegevensbanknaam:  naam van de gegevensbank, string.\n",
    "    :return connection:        connection object, dit is wat teruggeven wordt \n",
    "                               door connect() methods van packages die voldoen aan de DB-API\n",
    "    \"\"\"\n",
    "    \n",
    "    password = getpass.getpass() # Genereer vakje voor wachtwoord in te geven\n",
    "    \n",
    "    connection = mysql.connector.connect(host=hostname,\n",
    "                                         user=username,\n",
    "                                         passwd=password,\n",
    "                                         db=gegevensbanknaam)\n",
    "    return connection\n",
    "\n",
    "\n",
    "def run_query(connection, query):\n",
    "    \"\"\"\n",
    "    Voer een query uit op een reeds gemaakte connectie, geeft het resultaat van de query terug\n",
    "    \"\"\"\n",
    "    \n",
    "    # Making a cursor and executing the query\n",
    "    cursor = connection.cursor()\n",
    "    cursor.execute(query)\n",
    "    \n",
    "    # Collecting the result and casting it in a pd.DataFrame\n",
    "    res = cursor.fetchall()\n",
    "    \n",
    "    return res\n",
    "\n",
    "\n",
    "def res_to_df(query_result, column_names):\n",
    "    \"\"\"\n",
    "    Giet het resultaat van een uitgevoerde query in een 'pandas dataframe'\n",
    "    met vooraf gespecifieerde kolomnamen.\n",
    "    \n",
    "    Let op: Het resultaat van de query moet dus exact evenveel kolommen bevatten\n",
    "    als kolomnamen die je meegeeft. Als dit niet het geval is, is dit een indicatie\n",
    "    dat je oplossing fout is. (Gezien wij de kolomnamen van de oplossing al cadeau doen)\n",
    "    \n",
    "    \"\"\"\n",
    "    df = pd.DataFrame(query_result, columns=column_names)\n",
    "    return df"
   ]
  },
  {
   "cell_type": "code",
   "execution_count": 3,
   "metadata": {},
   "outputs": [
    {
     "data": {
      "text/plain": [
       "{'query_01': ['tname', 'year', 'HomeRun'],\n",
       " 'query_02': ['nameFirst', 'nameLast', 'birthYear', 'birthMonth', 'birthDay'],\n",
       " 'query_03': ['nameFirst', 'nameLast', 'tname'],\n",
       " 'query_04': ['tname', 'rank', 'W', 'L', 'nameFirst', 'nameLast'],\n",
       " 'query_05': ['tname'],\n",
       " 'query_06': ['tname', 'yearID', 'rank', 'W', 'L'],\n",
       " 'query_07': ['nameLast', 'nameFirst'],\n",
       " 'query_08': ['birthState',\n",
       "  'avg_weight',\n",
       "  'avg_height',\n",
       "  'avg_HomeRun',\n",
       "  'avg_Saves'],\n",
       " 'query_09': ['yearID', 'tname', 'HomeRun'],\n",
       " 'query_10': ['yearID', 'tname', 'rank', 'Games']}"
      ]
     },
     "execution_count": 3,
     "metadata": {},
     "output_type": "execute_result"
    }
   ],
   "source": [
    "# Dictionary van kolomnamen inladen\n",
    "\n",
    "filename = os.path.join(os.getcwd(), 'solution', 'all_q_colnam.json')\n",
    "col_names = json.load(open(filename, 'r'))    \n",
    "\n",
    "col_names # Inspecteer dictionary"
   ]
  },
  {
   "cell_type": "code",
   "execution_count": 4,
   "metadata": {},
   "outputs": [],
   "source": [
    "def query_01(connection, column_names):\n",
    "    # Bouw je query\n",
    "    query=\"\"\"\n",
    "    SELECT t.name, t.yearID, t.HR\n",
    "    FROM   Teams as t\n",
    "    ORDER by t.HR DESC;\n",
    "    \"\"\"\n",
    "    \n",
    "    # Stap 2 & 3\n",
    "    res = run_query(connection, query)         # Query uitvoeren\n",
    "    df = res_to_df(res, column_names)          # Query in DataFrame brengen\n",
    "    \n",
    "    return df"
   ]
  },
  {
   "cell_type": "code",
   "execution_count": 5,
   "metadata": {},
   "outputs": [
    {
     "name": "stdout",
     "output_type": "stream",
     "text": [
      "········\n"
     ]
    }
   ],
   "source": [
    "username = 'root'      # Vervang dit als je via een andere user queries stuurt\n",
    "hostname = 'localhost' # Als je een databank lokaal draait, is dit localhost.\n",
    "db = 'lahman2016'      # Naam van de gegevensbank op je XAMPP Mysql server\n",
    "\n",
    "# We verbinden met de gegevensbank\n",
    "c = verbind_met_GB(username, hostname, db)"
   ]
  },
  {
   "cell_type": "code",
   "execution_count": 6,
   "metadata": {},
   "outputs": [
    {
     "data": {
      "text/html": [
       "<div>\n",
       "<style scoped>\n",
       "    .dataframe tbody tr th:only-of-type {\n",
       "        vertical-align: middle;\n",
       "    }\n",
       "\n",
       "    .dataframe tbody tr th {\n",
       "        vertical-align: top;\n",
       "    }\n",
       "\n",
       "    .dataframe thead th {\n",
       "        text-align: right;\n",
       "    }\n",
       "</style>\n",
       "<table border=\"1\" class=\"dataframe\">\n",
       "  <thead>\n",
       "    <tr style=\"text-align: right;\">\n",
       "      <th></th>\n",
       "      <th>tname</th>\n",
       "      <th>year</th>\n",
       "      <th>HomeRun</th>\n",
       "    </tr>\n",
       "  </thead>\n",
       "  <tbody>\n",
       "    <tr>\n",
       "      <th>0</th>\n",
       "      <td>Seattle Mariners</td>\n",
       "      <td>1997</td>\n",
       "      <td>264</td>\n",
       "    </tr>\n",
       "    <tr>\n",
       "      <th>1</th>\n",
       "      <td>Texas Rangers</td>\n",
       "      <td>2005</td>\n",
       "      <td>260</td>\n",
       "    </tr>\n",
       "    <tr>\n",
       "      <th>2</th>\n",
       "      <td>Baltimore Orioles</td>\n",
       "      <td>1996</td>\n",
       "      <td>257</td>\n",
       "    </tr>\n",
       "    <tr>\n",
       "      <th>3</th>\n",
       "      <td>Toronto Blue Jays</td>\n",
       "      <td>2010</td>\n",
       "      <td>257</td>\n",
       "    </tr>\n",
       "    <tr>\n",
       "      <th>4</th>\n",
       "      <td>Baltimore Orioles</td>\n",
       "      <td>2016</td>\n",
       "      <td>253</td>\n",
       "    </tr>\n",
       "  </tbody>\n",
       "</table>\n",
       "</div>"
      ],
      "text/plain": [
       "               tname  year  HomeRun\n",
       "0   Seattle Mariners  1997      264\n",
       "1      Texas Rangers  2005      260\n",
       "2  Baltimore Orioles  1996      257\n",
       "3  Toronto Blue Jays  2010      257\n",
       "4  Baltimore Orioles  2016      253"
      ]
     },
     "execution_count": 6,
     "metadata": {},
     "output_type": "execute_result"
    }
   ],
   "source": [
    "# De voorbeeldquery heeft dezelfde kolomnamen als query 1, dus we gebruiken die\n",
    "kolommen = col_names['query_01'] \n",
    "\n",
    "# Functie uitvoeren, geeft resultaat van de query in een DataFrame\n",
    "df = query_01(c, col_names['query_01'])\n",
    "\n",
    "# We inspecteren de eerste paar resultaten (voor alles te zien: laat .head() weg)\n",
    "df.head() "
   ]
  },
  {
   "cell_type": "code",
   "execution_count": 7,
   "metadata": {},
   "outputs": [],
   "source": [
    "def query_02(connection, column_names, datum = '1980-01-16'):\n",
    "    # Bouw je query\n",
    "    query=\"\"\"\n",
    "    SELECT Master.nameFirst, Master.nameLast, \n",
    "           Master.birthYear, Master.birthMonth, Master.birthDay\n",
    "    FROM   Master\n",
    "    WHERE  Master.debut> {}\n",
    "    ORDER by Master.nameLast;\n",
    "    \"\"\".format(datum)\n",
    "    \n",
    "    # Stap 2 & 3\n",
    "    res = run_query(connection, query)         # Query uitvoeren\n",
    "    df = res_to_df(res, column_names)          # Query in DataFrame brengen\n",
    "    \n",
    "    return df"
   ]
  },
  {
   "cell_type": "code",
   "execution_count": 8,
   "metadata": {},
   "outputs": [
    {
     "name": "stdout",
     "output_type": "stream",
     "text": [
      "········\n"
     ]
    }
   ],
   "source": [
    "username = 'root'      # Vervang dit als je via een andere user queries stuurt\n",
    "hostname = 'localhost' # Als je een databank lokaal draait, is dit localhost.\n",
    "db = 'lahman2016'      # Naam van de gegevensbank op je XAMPP Mysql server\n",
    "\n",
    "# We verbinden met de gegevensbank\n",
    "c = verbind_met_GB(username, hostname, db)"
   ]
  },
  {
   "cell_type": "code",
   "execution_count": 9,
   "metadata": {},
   "outputs": [
    {
     "data": {
      "text/html": [
       "<div>\n",
       "<style scoped>\n",
       "    .dataframe tbody tr th:only-of-type {\n",
       "        vertical-align: middle;\n",
       "    }\n",
       "\n",
       "    .dataframe tbody tr th {\n",
       "        vertical-align: top;\n",
       "    }\n",
       "\n",
       "    .dataframe thead th {\n",
       "        text-align: right;\n",
       "    }\n",
       "</style>\n",
       "<table border=\"1\" class=\"dataframe\">\n",
       "  <thead>\n",
       "    <tr style=\"text-align: right;\">\n",
       "      <th></th>\n",
       "      <th>nameFirst</th>\n",
       "      <th>nameLast</th>\n",
       "      <th>birthYear</th>\n",
       "      <th>birthMonth</th>\n",
       "      <th>birthDay</th>\n",
       "    </tr>\n",
       "  </thead>\n",
       "  <tbody>\n",
       "    <tr>\n",
       "      <th>0</th>\n",
       "      <td>David</td>\n",
       "      <td>Aardsma</td>\n",
       "      <td>1981</td>\n",
       "      <td>12</td>\n",
       "      <td>27</td>\n",
       "    </tr>\n",
       "    <tr>\n",
       "      <th>1</th>\n",
       "      <td>Don</td>\n",
       "      <td>Aase</td>\n",
       "      <td>1954</td>\n",
       "      <td>9</td>\n",
       "      <td>8</td>\n",
       "    </tr>\n",
       "    <tr>\n",
       "      <th>2</th>\n",
       "      <td>Andy</td>\n",
       "      <td>Abad</td>\n",
       "      <td>1972</td>\n",
       "      <td>8</td>\n",
       "      <td>25</td>\n",
       "    </tr>\n",
       "    <tr>\n",
       "      <th>3</th>\n",
       "      <td>Fernando</td>\n",
       "      <td>Abad</td>\n",
       "      <td>1985</td>\n",
       "      <td>12</td>\n",
       "      <td>17</td>\n",
       "    </tr>\n",
       "    <tr>\n",
       "      <th>4</th>\n",
       "      <td>Glenn</td>\n",
       "      <td>Abbott</td>\n",
       "      <td>1951</td>\n",
       "      <td>2</td>\n",
       "      <td>16</td>\n",
       "    </tr>\n",
       "  </tbody>\n",
       "</table>\n",
       "</div>"
      ],
      "text/plain": [
       "  nameFirst nameLast  birthYear  birthMonth  birthDay\n",
       "0     David  Aardsma       1981          12        27\n",
       "1       Don     Aase       1954           9         8\n",
       "2      Andy     Abad       1972           8        25\n",
       "3  Fernando     Abad       1985          12        17\n",
       "4     Glenn   Abbott       1951           2        16"
      ]
     },
     "execution_count": 9,
     "metadata": {},
     "output_type": "execute_result"
    }
   ],
   "source": [
    "# De voorbeeldquery heeft dezelfde kolomnamen als query 1, dus we gebruiken die\n",
    "kolommen = col_names['query_02'] \n",
    "\n",
    "# Functie uitvoeren, geeft resultaat van de query in een DataFrame\n",
    "df = query_02(c, col_names['query_02'], datum = '1980-01-16')\n",
    "\n",
    "# We inspecteren de eerste paar resultaten (voor alles te zien: laat .head() weg)\n",
    "df.head() "
   ]
  },
  {
   "cell_type": "code",
   "execution_count": 10,
   "metadata": {},
   "outputs": [],
   "source": [
    "def query_03(connection, column_names):\n",
    "    # Bouw je query\n",
    "    query=\"\"\"\n",
    "    SELECT DISTINCT MS.nameFirst, MS.nameLast, t.name\n",
    "    FROM   Teams as t, Managers as MG, Master as MS\n",
    "    WHERE  MG.teamID = t.teamID AND MG.plyrMgr = 'N'\n",
    "           AND MS.playerID = MG.playerID\n",
    "    ORDER by t.name;\n",
    "    \"\"\"\n",
    "    # Stap 2 & 3\n",
    "    res = run_query(connection, query)         # Query uitvoeren\n",
    "    df = res_to_df(res, column_names)          # Query in DataFrame brengen\n",
    "    \n",
    "    return df"
   ]
  },
  {
   "cell_type": "code",
   "execution_count": 11,
   "metadata": {},
   "outputs": [
    {
     "name": "stdout",
     "output_type": "stream",
     "text": [
      "········\n"
     ]
    }
   ],
   "source": [
    "username = 'root'      # Vervang dit als je via een andere user queries stuurt\n",
    "hostname = 'localhost' # Als je een databank lokaal draait, is dit localhost.\n",
    "db = 'lahman2016'      # Naam van de gegevensbank op je XAMPP Mysql server\n",
    "\n",
    "# We verbinden met de gegevensbank\n",
    "c = verbind_met_GB(username, hostname, db)"
   ]
  },
  {
   "cell_type": "code",
   "execution_count": null,
   "metadata": {},
   "outputs": [],
   "source": [
    "# De voorbeeldquery heeft dezelfde kolomnamen als query 1, dus we gebruiken die\n",
    "kolommen = col_names['query_03'] \n",
    "\n",
    "# Functie uitvoeren, geeft resultaat van de query in een DataFrame\n",
    "df = query_03(c, col_names['query_03'])\n",
    "\n",
    "# We inspecteren de eerste paar resultaten (voor alles te zien: laat .head() weg)\n",
    "df.head()"
   ]
  },
  {
   "cell_type": "code",
   "execution_count": null,
   "metadata": {},
   "outputs": [],
   "source": [
    "def query_04(connection, column_names, datum_x='1980-01-01', datum_y='1980-01-01'):\n",
    "    # Bouw je query\n",
    "    query=\"\"\"\n",
    "    SELECT DISTINCT t.name, t.Rank, t.W, t.L, MS.nameFirst, MS.nameLast\n",
    "    FROM   Teams as t, Managers as MG, Master as MS, Halloffame as HF\n",
    "    WHERE  MS.playerID = MG.playerID AND HF.playerID = MG.playerID\n",
    "           AND MG.teamID = t.teamID\n",
    "           AND HF.yearid > {}\n",
    "           AND MG.yearID < {}\n",
    "    ORDER by t.name, t.Rank;\n",
    "    \"\"\".format(datum_x, datum_y)\n",
    "    ####hoe variablen binnen krijgen \n",
    "    \n",
    "    # Stap 2 & 3\n",
    "    res = run_query(connection, query)         # Query uitvoeren\n",
    "    df = res_to_df(res, column_names)          # Query in DataFrame brengen\n",
    "    \n",
    "    return df"
   ]
  },
  {
   "cell_type": "code",
   "execution_count": null,
   "metadata": {},
   "outputs": [],
   "source": [
    "username = 'root'      # Vervang dit als je via een andere user queries stuurt\n",
    "hostname = 'localhost' # Als je een databank lokaal draait, is dit localhost.\n",
    "db = 'lahman2016'      # Naam van de gegevensbank op je XAMPP Mysql server\n",
    "\n",
    "# We verbinden met de gegevensbank\n",
    "c = verbind_met_GB(username, hostname, db)"
   ]
  },
  {
   "cell_type": "code",
   "execution_count": null,
   "metadata": {},
   "outputs": [],
   "source": [
    "# De voorbeeldquery heeft dezelfde kolomnamen als query 1, dus we gebruiken die\n",
    "kolommen = col_names['query_04'] \n",
    "\n",
    "# Functie uitvoeren, geeft resultaat van de query in een DataFrame\n",
    "df = query_04(c, col_names['query_04'], datum_x='1980-01-01', datum_y='1980-01-01')\n",
    "\n",
    "# We inspecteren de eerste paar resultaten (voor alles te zien: laat .head() weg)\n",
    "df\n"
   ]
  },
  {
   "cell_type": "code",
   "execution_count": null,
   "metadata": {},
   "outputs": [],
   "source": [
    "def query_05(connection, column_names):\n",
    "    # Bouw je query\n",
    "    query=\"\"\"\n",
    "    SELECT DISTINCT t.name\n",
    "    FROM   Teams as t\n",
    "    WHERE  (SELECT  COUNT(*)\n",
    "            FROM    Teams as t, Managers as MG\n",
    "            WHERE   t.yearID>'1980-01-01'\n",
    "                    AND MG.teamID = T.teamID AND MG.plyrMgr = 'Y')>=1;\n",
    "    \"\"\"\n",
    "    \n",
    "    # Stap 2 & 3\n",
    "    res = run_query(connection, query)         # Query uitvoeren\n",
    "    df = res_to_df(res, column_names)          # Query in DataFrame brengen\n",
    "    \n",
    "    return df"
   ]
  },
  {
   "cell_type": "code",
   "execution_count": null,
   "metadata": {},
   "outputs": [],
   "source": [
    "username = 'root'      # Vervang dit als je via een andere user queries stuurt\n",
    "hostname = 'localhost' # Als je een databank lokaal draait, is dit localhost.\n",
    "db = 'lahman2016'      # Naam van de gegevensbank op je XAMPP Mysql server\n",
    "\n",
    "# We verbinden met de gegevensbank\n",
    "c = verbind_met_GB(username, hostname, db)"
   ]
  },
  {
   "cell_type": "code",
   "execution_count": null,
   "metadata": {},
   "outputs": [],
   "source": [
    "# De voorbeeldquery heeft dezelfde kolomnamen als query 1, dus we gebruiken die\n",
    "kolommen = col_names['query_05'] \n",
    "\n",
    "# Functie uitvoeren, geeft resultaat van de query in een DataFrame\n",
    "df = query_05(c, col_names['query_05'])\n",
    "\n",
    "# We inspecteren de eerste paar resultaten (voor alles te zien: laat .head() weg)\n",
    "df"
   ]
  },
  {
   "cell_type": "code",
   "execution_count": null,
   "metadata": {},
   "outputs": [],
   "source": []
  },
  {
   "cell_type": "code",
   "execution_count": null,
   "metadata": {},
   "outputs": [],
   "source": []
  },
  {
   "cell_type": "code",
   "execution_count": null,
   "metadata": {},
   "outputs": [],
   "source": []
  },
  {
   "cell_type": "code",
   "execution_count": null,
   "metadata": {},
   "outputs": [],
   "source": [
    "def query_06(connection, column_names, salaris=20000):\n",
    "    # Bouw je query\n",
    "    query=\"\"\"\n",
    "    SELECT    t.name, t.yearID, t.Rank, t.W, t.L\n",
    "    FROM      Teams as t, Salaries as S\n",
    "    WHERE     t.teamID = S.teamID\n",
    "    GROUP BY  S.teamID\n",
    "    \n",
    "    HAVING    MIN(salary)> {}\n",
    "    \n",
    "    ORDER BY  t.W\n",
    "    \"\"\".format(salaris)\n",
    "    # Stap 2 & 3\n",
    "    res = run_query(connection, query)         # Query uitvoeren\n",
    "    df = res_to_df(res, column_names)          # Query in DataFrame brengen\n",
    "    \n",
    "    return df"
   ]
  },
  {
   "cell_type": "code",
   "execution_count": null,
   "metadata": {},
   "outputs": [],
   "source": [
    "username = 'root'      # Vervang dit als je via een andere user queries stuurt\n",
    "hostname = 'localhost' # Als je een databank lokaal draait, is dit localhost.\n",
    "db = 'lahman2016'      # Naam van de gegevensbank op je XAMPP Mysql server\n",
    "\n",
    "# We verbinden met de gegevensbank\n",
    "c = verbind_met_GB(username, hostname, db)"
   ]
  },
  {
   "cell_type": "code",
   "execution_count": null,
   "metadata": {},
   "outputs": [],
   "source": [
    "# De voorbeeldquery heeft dezelfde kolomnamen als query 1, dus we gebruiken die\n",
    "kolommen = col_names['query_06'] \n",
    "\n",
    "# Functie uitvoeren, geeft resultaat van de query in een DataFrame\n",
    "df = query_06(c, col_names['query_06'], salaris=20000)\n",
    "\n",
    "# We inspecteren de eerste paar resultaten (voor alles te zien: laat .head() weg)\n",
    "df"
   ]
  },
  {
   "cell_type": "code",
   "execution_count": null,
   "metadata": {},
   "outputs": [],
   "source": [
    "def query_07(connection, column_names):\n",
    "    # Bouw je query\n",
    "    query=\"\"\"\n",
    "    SELECT DISTINCT MS.nameLast, MS.nameFirst\n",
    "    FROM  Managers as MG, Master as MS, Awardsmanagers as AM\n",
    "    \n",
    "    WHERE MG.playerID = MS.playerID AND MS.playerID = AM.playerID\n",
    "    GROUP BY AM.playerID\n",
    "    HAVING COUNT(DISTINCT AM.awardID)=2\n",
    "\n",
    "    ORDER by MS.nameLast;\n",
    "    \"\"\"\n",
    "    #    AND   AM.awardID LIKE '%SN%'  \n",
    "    # AND   AM.awardID LIKE '%BW%' \n",
    "\n",
    "    # Stap 2 & 3\n",
    "    res = run_query(connection, query)         # Query uitvoeren\n",
    "    df = res_to_df(res, column_names)          # Query in DataFrame brengen\n",
    "    \n",
    "    return df"
   ]
  },
  {
   "cell_type": "code",
   "execution_count": null,
   "metadata": {},
   "outputs": [],
   "source": [
    "username = 'root'      # Vervang dit als je via een andere user queries stuurt\n",
    "hostname = 'localhost' # Als je een databank lokaal draait, is dit localhost.\n",
    "db = 'lahman2016'      # Naam van de gegevensbank op je XAMPP Mysql server\n",
    "\n",
    "# We verbinden met de gegevensbank\n",
    "c = verbind_met_GB(username, hostname, db)"
   ]
  },
  {
   "cell_type": "code",
   "execution_count": null,
   "metadata": {
    "scrolled": false
   },
   "outputs": [],
   "source": [
    "# De voorbeeldquery heeft dezelfde kolomnamen als query 1, dus we gebruiken die\n",
    "kolommen = col_names['query_07'] \n",
    "\n",
    "# Functie uitvoeren, geeft resultaat van de query in een DataFrame\n",
    "df = query_07(c, col_names['query_07'])\n",
    "\n",
    "# We inspecteren de eerste paar resultaten (voor alles te zien: laat .head() weg)\n",
    "df\n"
   ]
  },
  {
   "cell_type": "code",
   "execution_count": 4,
   "metadata": {},
   "outputs": [],
   "source": [
    "def query_08(connection, column_names, jaar=1990, lengte=75):\n",
    "    # Bouw je query\n",
    "    query=\"\"\"\n",
    "    \n",
    "    \n",
    "    SELECT   MS.birthState, AVG(MS.weight), AVG(MS.height),\n",
    "             AVG(B.HR), AVG(P.SV)\n",
    "    FROM     Master as MS, Batting as B, Pitching as P,\n",
    "             Halloffame as HF\n",
    "                \n",
    "    WHERE    HF.yearID >= {} AND\n",
    "             MS.playerID = HF.playerID AND\n",
    "             MS.playerID = B.playerID AND\n",
    "             MS.playerID = P.playerID\n",
    "             \n",
    "    GROUP BY MS.BirthState\n",
    "    HAVING AVG(MS.Height)> {}\n",
    "    \n",
    "   \n",
    "    \n",
    "        \n",
    "    ORDER BY MS.BirthState;\n",
    "    \"\"\".format(jaar,lengte)\n",
    "                 \n",
    "    # Stap 2 & 3\n",
    "    res = run_query(connection, query)         # Query uitvoeren\n",
    "    df = res_to_df(res, column_names)          # Query in DataFrame brengen\n",
    "    \n",
    "    return df"
   ]
  },
  {
   "cell_type": "code",
   "execution_count": 5,
   "metadata": {},
   "outputs": [
    {
     "name": "stdout",
     "output_type": "stream",
     "text": [
      "········\n"
     ]
    }
   ],
   "source": [
    "username = 'root'      # Vervang dit als je via een andere user queries stuurt\n",
    "hostname = 'localhost' # Als je een databank lokaal draait, is dit localhost.\n",
    "db = 'lahman2016'      # Naam van de gegevensbank op je XAMPP Mysql server\n",
    "\n",
    "# We verbinden met de gegevensbank\n",
    "c = verbind_met_GB(username, hostname, db)"
   ]
  },
  {
   "cell_type": "code",
   "execution_count": 6,
   "metadata": {},
   "outputs": [
    {
     "data": {
      "text/html": [
       "<div>\n",
       "<style scoped>\n",
       "    .dataframe tbody tr th:only-of-type {\n",
       "        vertical-align: middle;\n",
       "    }\n",
       "\n",
       "    .dataframe tbody tr th {\n",
       "        vertical-align: top;\n",
       "    }\n",
       "\n",
       "    .dataframe thead th {\n",
       "        text-align: right;\n",
       "    }\n",
       "</style>\n",
       "<table border=\"1\" class=\"dataframe\">\n",
       "  <thead>\n",
       "    <tr style=\"text-align: right;\">\n",
       "      <th></th>\n",
       "      <th>birthState</th>\n",
       "      <th>avg_weight</th>\n",
       "      <th>avg_height</th>\n",
       "      <th>avg_HomeRun</th>\n",
       "      <th>avg_Saves</th>\n",
       "    </tr>\n",
       "  </thead>\n",
       "  <tbody>\n",
       "    <tr>\n",
       "      <th>0</th>\n",
       "      <td></td>\n",
       "      <td>200.4711</td>\n",
       "      <td>75.0462</td>\n",
       "      <td>0.0000</td>\n",
       "      <td>0.9905</td>\n",
       "    </tr>\n",
       "    <tr>\n",
       "      <th>1</th>\n",
       "      <td>AK</td>\n",
       "      <td>205.0000</td>\n",
       "      <td>77.0000</td>\n",
       "      <td>0.0000</td>\n",
       "      <td>1.0476</td>\n",
       "    </tr>\n",
       "    <tr>\n",
       "      <th>2</th>\n",
       "      <td>ID</td>\n",
       "      <td>185.0000</td>\n",
       "      <td>77.0000</td>\n",
       "      <td>0.4375</td>\n",
       "      <td>0.0000</td>\n",
       "    </tr>\n",
       "    <tr>\n",
       "      <th>3</th>\n",
       "      <td>IN</td>\n",
       "      <td>181.2616</td>\n",
       "      <td>75.0646</td>\n",
       "      <td>0.1696</td>\n",
       "      <td>0.3920</td>\n",
       "    </tr>\n",
       "    <tr>\n",
       "      <th>4</th>\n",
       "      <td>KS</td>\n",
       "      <td>220.0000</td>\n",
       "      <td>77.0000</td>\n",
       "      <td>0.0000</td>\n",
       "      <td>0.0000</td>\n",
       "    </tr>\n",
       "    <tr>\n",
       "      <th>5</th>\n",
       "      <td>LA</td>\n",
       "      <td>205.8793</td>\n",
       "      <td>75.3668</td>\n",
       "      <td>0.0650</td>\n",
       "      <td>15.0788</td>\n",
       "    </tr>\n",
       "    <tr>\n",
       "      <th>6</th>\n",
       "      <td>MI</td>\n",
       "      <td>202.9793</td>\n",
       "      <td>75.7599</td>\n",
       "      <td>0.4920</td>\n",
       "      <td>0.9878</td>\n",
       "    </tr>\n",
       "    <tr>\n",
       "      <th>7</th>\n",
       "      <td>MN</td>\n",
       "      <td>196.2916</td>\n",
       "      <td>75.0088</td>\n",
       "      <td>0.0149</td>\n",
       "      <td>0.0595</td>\n",
       "    </tr>\n",
       "    <tr>\n",
       "      <th>8</th>\n",
       "      <td>MO</td>\n",
       "      <td>199.3150</td>\n",
       "      <td>76.1795</td>\n",
       "      <td>0.0511</td>\n",
       "      <td>3.6421</td>\n",
       "    </tr>\n",
       "    <tr>\n",
       "      <th>9</th>\n",
       "      <td>NC</td>\n",
       "      <td>205.6758</td>\n",
       "      <td>75.5637</td>\n",
       "      <td>0.3219</td>\n",
       "      <td>0.5525</td>\n",
       "    </tr>\n",
       "    <tr>\n",
       "      <th>10</th>\n",
       "      <td>ON</td>\n",
       "      <td>205.0000</td>\n",
       "      <td>77.0000</td>\n",
       "      <td>0.6500</td>\n",
       "      <td>0.3500</td>\n",
       "    </tr>\n",
       "    <tr>\n",
       "      <th>11</th>\n",
       "      <td>San Pedro de Macoris</td>\n",
       "      <td>180.0000</td>\n",
       "      <td>76.0000</td>\n",
       "      <td>0.0000</td>\n",
       "      <td>16.0556</td>\n",
       "    </tr>\n",
       "    <tr>\n",
       "      <th>12</th>\n",
       "      <td>UT</td>\n",
       "      <td>200.0000</td>\n",
       "      <td>76.0000</td>\n",
       "      <td>0.0000</td>\n",
       "      <td>0.0000</td>\n",
       "    </tr>\n",
       "  </tbody>\n",
       "</table>\n",
       "</div>"
      ],
      "text/plain": [
       "              birthState avg_weight avg_height avg_HomeRun avg_Saves\n",
       "0                          200.4711    75.0462      0.0000    0.9905\n",
       "1                     AK   205.0000    77.0000      0.0000    1.0476\n",
       "2                     ID   185.0000    77.0000      0.4375    0.0000\n",
       "3                     IN   181.2616    75.0646      0.1696    0.3920\n",
       "4                     KS   220.0000    77.0000      0.0000    0.0000\n",
       "5                     LA   205.8793    75.3668      0.0650   15.0788\n",
       "6                     MI   202.9793    75.7599      0.4920    0.9878\n",
       "7                     MN   196.2916    75.0088      0.0149    0.0595\n",
       "8                     MO   199.3150    76.1795      0.0511    3.6421\n",
       "9                     NC   205.6758    75.5637      0.3219    0.5525\n",
       "10                    ON   205.0000    77.0000      0.6500    0.3500\n",
       "11  San Pedro de Macoris   180.0000    76.0000      0.0000   16.0556\n",
       "12                    UT   200.0000    76.0000      0.0000    0.0000"
      ]
     },
     "execution_count": 6,
     "metadata": {},
     "output_type": "execute_result"
    }
   ],
   "source": [
    "# De voorbeeldquery heeft dezelfde kolomnamen als query 1, dus we gebruiken die\n",
    "kolommen = col_names['query_08'] \n",
    "\n",
    "# Functie uitvoeren, geeft resultaat van de query in een DataFrame\n",
    "df = query_08(c, col_names['query_08'], jaar=1990, lengte=75)\n",
    "\n",
    "# We inspecteren de eerste paar resultaten (voor alles te zien: laat .head() weg)\n",
    "df"
   ]
  },
  {
   "cell_type": "code",
   "execution_count": null,
   "metadata": {},
   "outputs": [],
   "source": []
  },
  {
   "cell_type": "code",
   "execution_count": null,
   "metadata": {},
   "outputs": [],
   "source": []
  },
  {
   "cell_type": "code",
   "execution_count": null,
   "metadata": {
    "scrolled": false
   },
   "outputs": [],
   "source": []
  },
  {
   "cell_type": "code",
   "execution_count": null,
   "metadata": {},
   "outputs": [],
   "source": []
  },
  {
   "cell_type": "code",
   "execution_count": null,
   "metadata": {},
   "outputs": [],
   "source": []
  },
  {
   "cell_type": "code",
   "execution_count": null,
   "metadata": {},
   "outputs": [],
   "source": []
  },
  {
   "cell_type": "code",
   "execution_count": null,
   "metadata": {},
   "outputs": [],
   "source": [
    "def query_09(connection, column_names, jaar=1975):\n",
    "    # Bouw je query\n",
    "    query=\"\"\"\n",
    "    SELECT   t.yearID, t.name, t.HR\n",
    "    FROM     Teams as t\n",
    "    WHERE    t.yearID = {}\n",
    "    ORDER BY t.HR DESC\n",
    "    LIMIT    1,1; \n",
    "    \n",
    "    \n",
    "     \"\"\".format(jaar)\n",
    "    # Stap 2 & 3\n",
    "    res = run_query(connection, query)         # Query uitvoeren\n",
    "    df = res_to_df(res, column_names)          # Query in DataFrame brengen\n",
    "    \n",
    "    return df"
   ]
  },
  {
   "cell_type": "code",
   "execution_count": null,
   "metadata": {},
   "outputs": [],
   "source": [
    "username = 'root'      # Vervang dit als je via een andere user queries stuurt\n",
    "hostname = 'localhost' # Als je een databank lokaal draait, is dit localhost.\n",
    "db = 'lahman2016'      # Naam van de gegevensbank op je XAMPP Mysql server\n",
    "\n",
    "# We verbinden met de gegevensbank\n",
    "c = verbind_met_GB(username, hostname, db)"
   ]
  },
  {
   "cell_type": "code",
   "execution_count": null,
   "metadata": {},
   "outputs": [],
   "source": [
    "# De voorbeeldquery heeft dezelfde kolomnamen als query 1, dus we gebruiken die\n",
    "kolommen = col_names['query_09'] \n",
    "\n",
    "# Functie uitvoeren, geeft resultaat van de query in een DataFrame\n",
    "df = query_09(c, col_names['query_09'])\n",
    "\n",
    "# We inspecteren de eerste paar resultaten (voor alles te zien: laat .head() weg)\n",
    "df"
   ]
  },
  {
   "cell_type": "code",
   "execution_count": null,
   "metadata": {},
   "outputs": [],
   "source": [
    "def query_test10(connection, column_names, jaar=1990):\n",
    "    # Bouw je query\n",
    "    \n",
    "    query=\"\"\"\n",
    "    SELECT t.yearID, t.name, t.Rank, t.G\n",
    "    FROM   Teams as t, Appearances as A\n",
    "    WHERE  t.yearID ={} AND \n",
    "           t.teamID = A.teamID \n",
    "           \n",
    "    GROUP BY t.teamID\n",
    "    HAVING   1>=ANY( SELECT COUNT( AP.playerID) =1\n",
    "                  FROM   Appearances as A, Teams as t, AwardsPlayers as AP\n",
    "                  WHERE  t.yearID = {} AND \n",
    "                         t.teamID = A.teamID AND\n",
    "                         AP.playerID = A.playerID)\n",
    "    ORDER BY t.name, t.Rank;\n",
    "    \"\"\".format(jaar,jaar)\n",
    "    \n",
    "    \n",
    "    res = run_query(connection, query)         # Query uitvoeren\n",
    "    df = res_to_df(res, column_names)          # Query in DataFrame brengen\n",
    "    \n",
    "    return df"
   ]
  },
  {
   "cell_type": "code",
   "execution_count": null,
   "metadata": {},
   "outputs": [],
   "source": [
    "username = 'root'      # Vervang dit als je via een andere user queries stuurt\n",
    "hostname = 'localhost' # Als je een databank lokaal draait, is dit localhost.\n",
    "db = 'lahman2016'      # Naam van de gegevensbank op je XAMPP Mysql server\n",
    "\n",
    "# We verbinden met de gegevensbank\n",
    "c = verbind_met_GB(username, hostname, db)"
   ]
  },
  {
   "cell_type": "code",
   "execution_count": null,
   "metadata": {},
   "outputs": [],
   "source": [
    "# De voorbeeldquery heeft dezelfde kolomnamen als query 1, dus we gebruiken die\n",
    "kolommen = col_names['query_10'] \n",
    "\n",
    "# Functie uitvoeren, geeft resultaat van de query in een DataFrame\n",
    "df = query_test10(c, col_names['query_10'], jaar=1990)\n",
    "\n",
    "# We inspecteren de eerste paar resultaten (voor alles te zien: laat .head() weg)\n",
    "df.head() "
   ]
  },
  {
   "cell_type": "code",
   "execution_count": null,
   "metadata": {},
   "outputs": [],
   "source": [
    "def query_10(connection, column_names, jaar=1990):\n",
    "    # Bouw je query\n",
    "    \n",
    "    query=\"\"\"\n",
    "    SELECT t.yearID, t.name, t.Rank, t.G\n",
    "    FROM   Teams as t, Appearances as A\n",
    "    WHERE  t.teamID = A.teamID AND t.yearID={}\n",
    "           AND (SELECT  COUNT(DISTINCT AP.playerID)\n",
    "                FROM    Appearances as A, Awardsplayers as AP, Teams as t\n",
    "                WHERE   A.teamID = t.teamID AND A.playerID = AP.playerID AND T.yearID= {}\n",
    "                        AND (SELECT COUNT(*)\n",
    "                             FROM   Appearances as A, Awardsplayers as AP, Teams as t\n",
    "                             WHERE  A.teamID = t.teamID AND t.yearID= {}\n",
    "                             AND    AP.playerID in (SELECT  A.playerID \n",
    "                                                     FROM   Appearances as A, Teams as t\n",
    "                                                     WHERE  A.teamID = t.TeamID)                 \n",
    "                       )=1)>0;\n",
    "    ORDER by t.name, t.Rank\n",
    "    \"\"\".format(jaar,jaar,jaar)\n",
    "    res = run_query(connection, query)         # Query uitvoeren\n",
    "    df = res_to_df(res, column_names)          # Query in DataFrame brengen\n",
    "    \n",
    "    return df"
   ]
  },
  {
   "cell_type": "code",
   "execution_count": null,
   "metadata": {},
   "outputs": [],
   "source": [
    "username = 'root'      # Vervang dit als je via een andere user queries stuurt\n",
    "hostname = 'localhost' # Als je een databank lokaal draait, is dit localhost.\n",
    "db = 'lahman2016'      # Naam van de gegevensbank op je XAMPP Mysql server\n",
    "\n",
    "# We verbinden met de gegevensbank\n",
    "c = verbind_met_GB(username, hostname, db)"
   ]
  },
  {
   "cell_type": "code",
   "execution_count": null,
   "metadata": {},
   "outputs": [],
   "source": [
    "# De voorbeeldquery heeft dezelfde kolomnamen als query 1, dus we gebruiken die\n",
    "kolommen = col_names['query_10'] \n",
    "\n",
    "# Functie uitvoeren, geeft resultaat van de query in een DataFrame\n",
    "df = query_10(c, col_names['query_10'], jaar=1990)\n",
    "\n",
    "# We inspecteren de eerste paar resultaten (voor alles te zien: laat .head() weg)\n",
    "df.head() "
   ]
  }
 ],
 "metadata": {
  "kernelspec": {
   "display_name": "Python 3",
   "language": "python",
   "name": "python3"
  },
  "language_info": {
   "codemirror_mode": {
    "name": "ipython",
    "version": 3
   },
   "file_extension": ".py",
   "mimetype": "text/x-python",
   "name": "python",
   "nbconvert_exporter": "python",
   "pygments_lexer": "ipython3",
   "version": "3.6.4"
  }
 },
 "nbformat": 4,
 "nbformat_minor": 2
}
