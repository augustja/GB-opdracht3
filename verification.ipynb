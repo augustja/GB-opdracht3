{
 "cells": [
  {
   "cell_type": "markdown",
   "metadata": {},
   "source": [
    "# Verification"
   ]
  },
  {
   "cell_type": "markdown",
   "metadata": {},
   "source": [
    "Voor de eerste 3 queries kan je je oplossing al testen via deze verification notebook! \n",
    "\n",
    "- Eerst wordt je script automatisch gerund met verschillende parameters\n",
    "    - Deze worden ingeladen van `all_q_param.json` in de `solution` folder.\n",
    "- De (eventuele) resultaten worden opgeslagen in csv files (in de `out` folder)\n",
    "- Die csv files worden vergeleken met de csv files van de oplossing (te vinden in de `solution` folder).\n",
    "- Elke query krijgt een score toegekend. Cf. https://en.wikipedia.org/wiki/F1_score.  \n",
    "- Een kort rapport wordt weergegeven die je pointers kan geven over wat er mis is met je query. \n",
    "    - TP: True Positives\n",
    "    - TN: True Negatives\n",
    "    - FP: False Positives"
   ]
  },
  {
   "cell_type": "markdown",
   "metadata": {},
   "source": [
    "## Preliminaries"
   ]
  },
  {
   "cell_type": "code",
   "execution_count": 1,
   "metadata": {},
   "outputs": [],
   "source": [
    "# De benodigde packages\n",
    "import getpass         # Package om een paswoordveldje te genereren.\n",
    "import mysql.connector # MySQL package\n",
    "import os\n",
    "import sys\n",
    "import pandas as pd"
   ]
  },
  {
   "cell_type": "code",
   "execution_count": 2,
   "metadata": {},
   "outputs": [],
   "source": [
    "# Importeren van onze custom tools\n",
    "sys.path.append(os.path.join(os.getcwd(), 'src')) # Add src folder to our PATH variable\n",
    "from execution import *\n",
    "from evaluation import *"
   ]
  },
  {
   "cell_type": "code",
   "execution_count": 3,
   "metadata": {
    "code_folding": [
     0
    ]
   },
   "outputs": [],
   "source": [
    "def verbind_met_GB(username, hostname, gegevensbanknaam):\n",
    "    \"\"\"\n",
    "    Maak verbinding met een externe gegevensbank\n",
    "    \n",
    "    :param  username:          username van de gebruiker, string\n",
    "    :param  hostname:          naam van de host, string.\n",
    "                               Dit is in het geval van een lokale server gewoon 'localhost'\n",
    "    :param  gegevensbanknaam:  naam van de gegevensbank, string.\n",
    "    :return connection:        connection object, dit is wat teruggeven wordt \n",
    "                               door connect() methods van packages die voldoen aan de DB-API\n",
    "    \"\"\"\n",
    "    \n",
    "    password = getpass.getpass() # Genereer vakje voor wachtwoord in te geven\n",
    "    \n",
    "    connection = mysql.connector.connect(host=hostname,\n",
    "                                         user=username,\n",
    "                                         passwd=password,\n",
    "                                         db=gegevensbanknaam)\n",
    "    return connection"
   ]
  },
  {
   "cell_type": "markdown",
   "metadata": {},
   "source": [
    "## Execution"
   ]
  },
  {
   "cell_type": "markdown",
   "metadata": {},
   "source": [
    "Eerst dien je terug verbinding te maken met de gegevensbank."
   ]
  },
  {
   "cell_type": "code",
   "execution_count": 4,
   "metadata": {},
   "outputs": [
    {
     "name": "stdout",
     "output_type": "stream",
     "text": [
      "········\n"
     ]
    }
   ],
   "source": [
    "username = 'root'      # Vervang dit als je via een andere user queries stuurt\n",
    "hostname = 'localhost' # Als je een gegevensbank lokaal hebt opgezet, is dit localhost.\n",
    "db = 'lahman2016'      # Naam van de gegevensbank op je XAMPP Mysql server\n",
    "\n",
    "# We verbinden met de gegevensbank\n",
    "c = verbind_met_GB(username, hostname, db)"
   ]
  },
  {
   "cell_type": "markdown",
   "metadata": {},
   "source": [
    "Dan dien je de filename van je ingevuld script in te vullen."
   ]
  },
  {
   "cell_type": "code",
   "execution_count": 6,
   "metadata": {},
   "outputs": [],
   "source": [
    "# filename = os.path.join(os.getcwd(), 'scripts', 'example.py') # Dummy example\n",
    "\n",
    "filename = 'wo_1_groep_02.py' # Vul filename van je ingevuld script hier in"
   ]
  },
  {
   "cell_type": "markdown",
   "metadata": {},
   "source": [
    "Nu runnen we het script. \n",
    "\n",
    "De parameters en de kolomnamen worden automatisch ingelezen uit de json files in de `solution` folder."
   ]
  },
  {
   "cell_type": "code",
   "execution_count": 7,
   "metadata": {},
   "outputs": [
    {
     "name": "stdout",
     "output_type": "stream",
     "text": [
      "No column names provided, loading from /home/zissou/Dropbox/Files/KUL/Teaching/17_18_DB_Files/DB_2018_project/solution/all_q_colnam.json\n",
      "\n",
      "\n",
      "No parameters provided, loading from /home/zissou/Dropbox/Files/KUL/Teaching/17_18_DB_Files/DB_2018_project/solution/all_q_params.json\n",
      "\n",
      "\n",
      "Loading method: query_01 from module example\n",
      "Loading method: query_02 from module example\n",
      "Loading method: query_03 from module example\n",
      "Loading method: query_04 from module example\n",
      "An exception occurred in method gen_all_q_method:\n",
      "module 'example' has no attribute 'query_04'\n",
      "\n",
      "Loading method: query_05 from module example\n",
      "An exception occurred in method gen_all_q_method:\n",
      "module 'example' has no attribute 'query_05'\n",
      "\n",
      "Loading method: query_06 from module example\n",
      "An exception occurred in method gen_all_q_method:\n",
      "module 'example' has no attribute 'query_06'\n",
      "\n",
      "Loading method: query_07 from module example\n",
      "An exception occurred in method gen_all_q_method:\n",
      "module 'example' has no attribute 'query_07'\n",
      "\n",
      "Loading method: query_08 from module example\n",
      "An exception occurred in method gen_all_q_method:\n",
      "module 'example' has no attribute 'query_08'\n",
      "\n",
      "Loading method: query_09 from module example\n",
      "An exception occurred in method gen_all_q_method:\n",
      "module 'example' has no attribute 'query_09'\n",
      "\n",
      "Loading method: query_10 from module example\n",
      "An exception occurred in method gen_all_q_method:\n",
      "module 'example' has no attribute 'query_10'\n",
      "\n",
      "An exception occurred in method run_all_queries:\n",
      "'query_04'\n",
      "\n",
      "An exception occurred in method run_all_queries:\n",
      "'query_05'\n",
      "\n",
      "An exception occurred in method run_all_queries:\n",
      "'query_06'\n",
      "\n",
      "An exception occurred in method run_all_queries:\n",
      "'query_07'\n",
      "\n",
      "An exception occurred in method run_all_queries:\n",
      "'query_08'\n",
      "\n",
      "An exception occurred in method run_all_queries:\n",
      "'query_09'\n",
      "\n",
      "An exception occurred in method run_all_queries:\n",
      "'query_10'\n",
      "\n"
     ]
    }
   ],
   "source": [
    "run_external_script(filename, c) # Run script with provided parameters and column names"
   ]
  },
  {
   "cell_type": "markdown",
   "metadata": {},
   "source": [
    "## 3. Evaluation\n",
    "\n",
    "Het externe script is nu uitgevoerd met de door ons vastgelegde parameters. Op die manier zijn er csv files gemaakt in de `out` directory.\n",
    "\n",
    "Die csv files worden nu vergeleken met door ons aangemaakte csv files van de correcte oplossingen. Op die manier wordt de score berekend."
   ]
  },
  {
   "cell_type": "markdown",
   "metadata": {},
   "source": [
    "1. Load all solution csvs\n",
    "2. Collect them in a dict\n",
    "3. Verify that you have a df for each parameter setting"
   ]
  },
  {
   "cell_type": "code",
   "execution_count": 8,
   "metadata": {},
   "outputs": [
    {
     "name": "stdout",
     "output_type": "stream",
     "text": [
      "\n",
      "\n",
      "\n",
      "---  ---  --- -- ---  ---  ---\n",
      "\n",
      "Result for query: 01\n",
      "\n",
      "With parameters:\n",
      "Overall score: 100%\n",
      "Breakdown:\n",
      "\tPerfect match = Congratulations!\n",
      "\n",
      "\n",
      "\n",
      "---  ---  --- -- ---  ---  ---\n",
      "\n",
      "Result for query: 02\n",
      "\n",
      "With parameters:\n",
      "\tdatum = 1980-01-16\n",
      "Overall score: 100%\n",
      "Breakdown:\n",
      "\tPerfect match = Congratulations!\n",
      "\n",
      "\n",
      "\n",
      "---  ---  --- -- ---  ---  ---\n",
      "\n",
      "Result for query: 02\n",
      "\n",
      "With parameters:\n",
      "\tdatum = 1985-01-16\n",
      "Overall score: 100%\n",
      "Breakdown:\n",
      "\tPerfect match = Congratulations!\n",
      "\n",
      "\n",
      "\n",
      "---  ---  --- -- ---  ---  ---\n",
      "\n",
      "Result for query: 03\n",
      "\n",
      "With parameters:\n",
      "Overall score: 90.0%\n",
      "Breakdown:\n",
      "\tTP        = 906\n",
      "\tFP        = 0\n",
      "\tFN        = 0\n",
      "\tprecision = 1.0\n",
      "\trecall    = 1.0\n",
      "\tF1        = 1.0\n",
      "\tRemark    = \n",
      "    Your result was not a perfect match. Therefore your score is calculated as (F1*0.9).\n",
      "    If you had a perfect F1 score, this means that you returned all tuples perfectly,\n",
      "    but forgot to order them.\n",
      "    \n",
      "\n"
     ]
    }
   ],
   "source": [
    "print(evaluate_script(filename))"
   ]
  }
 ],
 "metadata": {
  "kernelspec": {
   "display_name": "Python 3",
   "language": "python",
   "name": "python3"
  },
  "language_info": {
   "codemirror_mode": {
    "name": "ipython",
    "version": 3
   },
   "file_extension": ".py",
   "mimetype": "text/x-python",
   "name": "python",
   "nbconvert_exporter": "python",
   "pygments_lexer": "ipython3",
   "version": "3.6.4"
  },
  "toc": {
   "nav_menu": {},
   "number_sections": true,
   "sideBar": true,
   "skip_h1_title": true,
   "title_cell": "Table of Contents",
   "title_sidebar": "Contents",
   "toc_cell": false,
   "toc_position": {},
   "toc_section_display": true,
   "toc_window_display": true
  }
 },
 "nbformat": 4,
 "nbformat_minor": 2
}
