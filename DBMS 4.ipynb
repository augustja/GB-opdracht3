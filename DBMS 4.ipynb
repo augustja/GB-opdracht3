{
 "cells": [
  {
   "cell_type": "markdown",
   "metadata": {},
   "source": [
    "In de database zijn de volgende indexen geplaatst\n",
    "1."
   ]
  },
  {
   "cell_type": "code",
   "execution_count": null,
   "metadata": {},
   "outputs": [],
   "source": [
    "def optim_enkel_indexen(connection, column_names, jaar_1=2000, jaar_2=1990, lengte=75):\n",
    "    query=\"\"\"\n",
    "    SELECT m.birthState, AVG(m.weight), AVG(m.height), AVG(bat.HR), AVG(pit.SV)\n",
    "    FROM Master AS m,\n",
    "        Pitching AS pit,\n",
    "        Batting AS bat,\n",
    "        HallOfFame AS hof\n",
    "    WHERE pit.yearID = {}\n",
    "        AND bat.yearID = {}}\n",
    "        AND pit.playerID = m.playerID\n",
    "        AND bat.playerID = m.playerID\n",
    "        AND m.playerID = hof.playerID\n",
    "        AND hof.yearID > {}\n",
    "    GROUP BY m.birthState\n",
    "    HAVING AVG(m.height) > {}\n",
    "    ORDER BY m.birthState ASC;\n",
    "    \"\"\".format(jaar_1, jaar_1, jaar_2, lengte)\n"
   ]
  },
  {
   "cell_type": "code",
   "execution_count": null,
   "metadata": {},
   "outputs": [],
   "source": [
    "username = 'root'      # Vervang dit als je via een andere user queries stuurt\n",
    "hostname = 'localhost' # Als je een databank lokaal draait, is dit localhost.\n",
    "db = 'lahman2016'      # Naam van de gegevensbank op je XAMPP Mysql server\n",
    "\n",
    "# We verbinden met de gegevensbank\n",
    "c = verbind_met_GB(username, hostname, db)"
   ]
  }
 ],
 "metadata": {
  "kernelspec": {
   "display_name": "Python 3",
   "language": "python",
   "name": "python3"
  },
  "language_info": {
   "codemirror_mode": {
    "name": "ipython",
    "version": 3
   },
   "file_extension": ".py",
   "mimetype": "text/x-python",
   "name": "python",
   "nbconvert_exporter": "python",
   "pygments_lexer": "ipython3",
   "version": "3.6.4"
  }
 },
 "nbformat": 4,
 "nbformat_minor": 2
}
